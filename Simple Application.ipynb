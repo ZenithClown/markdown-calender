{
 "cells": [
  {
   "cell_type": "code",
   "execution_count": 1,
   "id": "ad2f11b3",
   "metadata": {
    "ExecuteTime": {
     "end_time": "2022-11-23T17:32:19.492525Z",
     "start_time": "2022-11-23T17:32:19.477494Z"
    }
   },
   "outputs": [],
   "source": [
    "import calendar"
   ]
  },
  {
   "cell_type": "code",
   "execution_count": 54,
   "id": "819a1961",
   "metadata": {
    "ExecuteTime": {
     "end_time": "2022-11-23T18:14:46.417349Z",
     "start_time": "2022-11-23T18:14:46.410352Z"
    }
   },
   "outputs": [
    {
     "name": "stdout",
     "output_type": "stream",
     "text": [
      "     March 2022\n",
      "Mo Tu We Th Fr Sa Su\n",
      "    1  2  3  4  5  6\n",
      " 7  8  9 10 11 12 13\n",
      "14 15 16 17 18 19 20\n",
      "21 22 23 24 25 26 27\n",
      "28 29 30 31\n",
      "\n"
     ]
    }
   ],
   "source": [
    "print(calendar.month(2022, 3)) # simply done!"
   ]
  },
  {
   "cell_type": "code",
   "execution_count": 55,
   "id": "79e5a3f6",
   "metadata": {
    "ExecuteTime": {
     "end_time": "2022-11-23T18:15:41.981291Z",
     "start_time": "2022-11-23T18:15:41.962364Z"
    }
   },
   "outputs": [],
   "source": [
    "year, month = 2022, 3\n",
    "calendar_ = calendar.month(year, month).split(\"\\n\")"
   ]
  },
  {
   "cell_type": "code",
   "execution_count": 57,
   "id": "279fe7d8",
   "metadata": {
    "ExecuteTime": {
     "end_time": "2022-11-23T18:16:24.011366Z",
     "start_time": "2022-11-23T18:16:23.994348Z"
    }
   },
   "outputs": [],
   "source": [
    "dates = [row for row in calendar_[2:] if row]"
   ]
  },
  {
   "cell_type": "code",
   "execution_count": 58,
   "id": "01c64ec2",
   "metadata": {
    "ExecuteTime": {
     "end_time": "2022-11-23T18:16:27.514254Z",
     "start_time": "2022-11-23T18:16:27.497629Z"
    }
   },
   "outputs": [
    {
     "data": {
      "text/plain": [
       "['    1  2  3  4  5  6',\n",
       " ' 7  8  9 10 11 12 13',\n",
       " '14 15 16 17 18 19 20',\n",
       " '21 22 23 24 25 26 27',\n",
       " '28 29 30 31']"
      ]
     },
     "execution_count": 58,
     "metadata": {},
     "output_type": "execute_result"
    }
   ],
   "source": [
    "dates"
   ]
  },
  {
   "cell_type": "code",
   "execution_count": 64,
   "id": "5148c628",
   "metadata": {
    "ExecuteTime": {
     "end_time": "2022-11-23T18:17:14.651629Z",
     "start_time": "2022-11-23T18:17:14.642278Z"
    }
   },
   "outputs": [],
   "source": [
    "def formatter(li : str) -> str:\n",
    "    mon, tue, wed, thu, fri, sat, sun = li[0:2], li[2:5], li[5:8], li[8:11], li[11:14], li[14:17], li[17:20]\n",
    "    return \" | \".join([v.strip().replace(v.strip(), v.strip().zfill(2)).replace(\"00\", \" \") for v in [mon, tue, wed, thu, fri, sat, sun]])"
   ]
  },
  {
   "cell_type": "code",
   "execution_count": 66,
   "id": "a1e987eb",
   "metadata": {
    "ExecuteTime": {
     "end_time": "2022-11-23T18:17:22.315084Z",
     "start_time": "2022-11-23T18:17:22.306087Z"
    }
   },
   "outputs": [
    {
     "data": {
      "text/plain": [
       "'28 | 29 | 30 | 31 |   |   |  '"
      ]
     },
     "execution_count": 66,
     "metadata": {},
     "output_type": "execute_result"
    }
   ],
   "source": [
    "formatter(dates[4])"
   ]
  },
  {
   "cell_type": "code",
   "execution_count": 72,
   "id": "ef517f57",
   "metadata": {
    "ExecuteTime": {
     "end_time": "2022-11-23T18:22:07.170218Z",
     "start_time": "2022-11-23T18:22:07.154204Z"
    }
   },
   "outputs": [],
   "source": [
    "year, month = 2022, 11\n",
    "calendar_ = calendar.month(year, month).split(\"\\n\")\n",
    "\n",
    "# get paramateres from the generated calendar\n",
    "title = calendar_[0].strip().upper()\n",
    "dates = \"\\n\".join([\"| \" + formatter(row) + \" |\" for row in calendar_[2:] if row])"
   ]
  },
  {
   "cell_type": "code",
   "execution_count": 73,
   "id": "75d592a3",
   "metadata": {
    "ExecuteTime": {
     "end_time": "2022-11-23T18:22:08.101280Z",
     "start_time": "2022-11-23T18:22:08.090256Z"
    }
   },
   "outputs": [
    {
     "name": "stdout",
     "output_type": "stream",
     "text": [
      "\n",
      "<div align = \"center\">\n",
      "\n",
      "**CALENDAR : `NOVEMBER 2022`**\n",
      "| MON | TUE | WED | THU | FRI | SAT | SUN |\n",
      "| :-: | :-: | :-: | :-: | :-: | :-: | :-: |\n",
      "|   | 01 | 02 | 03 | 04 | 05 | 06 |\n",
      "| 07 | 08 | 09 | 10 | 11 | 12 | 13 |\n",
      "| 14 | 15 | 16 | 17 | 18 | 19 | 20 |\n",
      "| 21 | 22 | 23 | 24 | 25 | 26 | 27 |\n",
      "| 28 | 29 | 30 |   |   |   |   |\n",
      "\n",
      "</div>\n",
      "\n"
     ]
    }
   ],
   "source": [
    "print(f\"\"\"\n",
    "<div align = \"center\">\n",
    "\n",
    "**CALENDAR : `{title}`**\n",
    "| MON | TUE | WED | THU | FRI | SAT | SUN |\n",
    "| :-: | :-: | :-: | :-: | :-: | :-: | :-: |\n",
    "{dates}\n",
    "\n",
    "</div>\n",
    "\"\"\")"
   ]
  }
 ],
 "metadata": {
  "kernelspec": {
   "display_name": "Python 3 (ipykernel)",
   "language": "python",
   "name": "python3"
  },
  "language_info": {
   "codemirror_mode": {
    "name": "ipython",
    "version": 3
   },
   "file_extension": ".py",
   "mimetype": "text/x-python",
   "name": "python",
   "nbconvert_exporter": "python",
   "pygments_lexer": "ipython3",
   "version": "3.9.13"
  },
  "toc": {
   "base_numbering": 1,
   "nav_menu": {},
   "number_sections": false,
   "sideBar": true,
   "skip_h1_title": true,
   "title_cell": "Table of Contents",
   "title_sidebar": "Contents",
   "toc_cell": false,
   "toc_position": {},
   "toc_section_display": true,
   "toc_window_display": false
  },
  "varInspector": {
   "cols": {
    "lenName": 16,
    "lenType": 16,
    "lenVar": 40
   },
   "kernels_config": {
    "python": {
     "delete_cmd_postfix": "",
     "delete_cmd_prefix": "del ",
     "library": "var_list.py",
     "varRefreshCmd": "print(var_dic_list())"
    },
    "r": {
     "delete_cmd_postfix": ") ",
     "delete_cmd_prefix": "rm(",
     "library": "var_list.r",
     "varRefreshCmd": "cat(var_dic_list()) "
    }
   },
   "types_to_exclude": [
    "module",
    "function",
    "builtin_function_or_method",
    "instance",
    "_Feature"
   ],
   "window_display": false
  }
 },
 "nbformat": 4,
 "nbformat_minor": 5
}
